{
 "cells": [
  {
   "cell_type": "markdown",
   "metadata": {},
   "source": []
  },
  {
   "cell_type": "markdown",
   "metadata": {},
   "source": [
    "# All About Singly Linked Lists"
   ]
  },
  {
   "cell_type": "markdown",
   "metadata": {},
   "source": [
    "## What are linked lists?\n",
    "A linked list is a linear data structure that is similar to an array. Linked lists are a collection of nodes that contain two things. Each node contains data and a pointer to the next node on the list."
   ]
  },
  {
   "cell_type": "markdown",
   "metadata": {},
   "source": [
    "## Basic Linked List implementation"
   ]
  },
  {
   "cell_type": "code",
   "execution_count": 4,
   "metadata": {},
   "outputs": [
    {
     "name": "stdout",
     "output_type": "stream",
     "text": [
      "Linked List Data:\n",
      "a->c->d->"
     ]
    }
   ],
   "source": [
    "# Node class to create node objects\n",
    "class Node:\n",
    "    # Function to initialize first node\n",
    "    def __init__(self, data):\n",
    "        self.data = data\n",
    "        self.next = None\n",
    "        \n",
    "class LinkedList:\n",
    "    def __init__(self):\n",
    "        self.head = None\n",
    "\n",
    "    # Method to insert new node at the end of the list\n",
    "    def insertAtEnd(self, data):\n",
    "        # Create new node with given data\n",
    "        new_node = Node(data)\n",
    "        \n",
    "        # Check if the head is an empty node\n",
    "        if self.head is None:\n",
    "            # If head is empty, make new_node the head and return\n",
    "            self.head = new_node\n",
    "            return\n",
    "\n",
    "        # If head is not empty, set current_node the head\n",
    "        current_node = self.head\n",
    "        \n",
    "        # Traverse LL until current_node hits None, the last node\n",
    "        while(current_node.next):\n",
    "            current_node = current_node.next\n",
    "            \n",
    "        # When the loop breaks, insert new_node after current_node.\n",
    "        # current_node will be at the end of the list\n",
    "        current_node.next = new_node\n",
    "        \n",
    "    # Method to print the entire linked list\n",
    "    def printLL(self):\n",
    "        # Initialize current_node with the head of the list\n",
    "        current_node = self.head\n",
    "        \n",
    "        # While loop will traverse list until current_node becomes None\n",
    "        while(current_node):\n",
    "            print(current_node.data, end=\"->\")\n",
    "            current_node = current_node.next\n",
    "            \n",
    "# Initialize new Linked List\n",
    "llist = LinkedList()\n",
    "\n",
    "# Add elements to Linked List\n",
    "llist.insertAtEnd('a')\n",
    "llist.insertAtEnd('c')\n",
    "llist.insertAtEnd('d')\n",
    "\n",
    "# Print all elements in Linked List\n",
    "print(\"Linked List Data:\")\n",
    "llist.printLL()\n"
   ]
  }
 ],
 "metadata": {
  "kernelspec": {
   "display_name": "Python 3",
   "language": "python",
   "name": "python3"
  },
  "language_info": {
   "codemirror_mode": {
    "name": "ipython",
    "version": 3
   },
   "file_extension": ".py",
   "mimetype": "text/x-python",
   "name": "python",
   "nbconvert_exporter": "python",
   "pygments_lexer": "ipython3",
   "version": "3.11.7"
  }
 },
 "nbformat": 4,
 "nbformat_minor": 2
}

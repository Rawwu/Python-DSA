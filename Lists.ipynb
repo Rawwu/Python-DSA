{
 "cells": [
  {
   "cell_type": "markdown",
   "metadata": {},
   "source": [
    "# Lists"
   ]
  },
  {
   "cell_type": "markdown",
   "metadata": {},
   "source": [
    "## What are Lists? []\n",
    "A list is a single \"variable\" that is used to store multiple values. <br />\n",
    "Lists are ordered and mutable. Duplicates are allowed."
   ]
  },
  {
   "cell_type": "markdown",
   "metadata": {},
   "source": [
    "## Python List Methods\n",
    "- append()\n",
    "- extend()\n",
    "- insert()\n",
    "- pop()\n",
    "- remove()\n",
    "- index()\n",
    "- count()\n",
    "- sort()\n",
    "- reverse()\n",
    "- copy()\n",
    "- clear()"
   ]
  },
  {
   "cell_type": "markdown",
   "metadata": {},
   "source": [
    "## List Implementation"
   ]
  },
  {
   "cell_type": "code",
   "execution_count": 11,
   "metadata": {},
   "outputs": [
    {
     "name": "stdout",
     "output_type": "stream",
     "text": [
      "[19, 22, 25, 29, 33]\n",
      "['Apple', 'Orange', 'Banana', 'Pear']\n",
      "['Thomas', 28, 'Computer Science', [3, 5]]\n",
      "[]\n"
     ]
    }
   ],
   "source": [
    "# List of 5 integers\n",
    "ages = [19, 22, 25, 29, 33]\n",
    "print(ages)\n",
    "\n",
    "# List of 5 strings\n",
    "fruits = [\"Apple\", \"Orange\", \"Banana\", \"Pear\"]\n",
    "print(fruits)\n",
    "\n",
    "# Lists can contain mixed data types\n",
    "student = [\"Thomas\", 28, \"Computer Science\", [3, 5]]\n",
    "print(student)\n",
    "\n",
    "# Empty lists can be initialized like so\n",
    "empty_list = []\n",
    "print(empty_list)"
   ]
  },
  {
   "cell_type": "markdown",
   "metadata": {},
   "source": [
    "### Append()\n",
    "Adds an element to the end of the list."
   ]
  },
  {
   "cell_type": "code",
   "execution_count": 12,
   "metadata": {},
   "outputs": [
    {
     "name": "stdout",
     "output_type": "stream",
     "text": [
      "Before append():  [19, 22, 25, 29, 33]\n",
      "After append(20):  [19, 22, 25, 29, 33, 20]\n",
      "other_ages list appended to ages:  [19, 22, 25, 29, 33, 20, [42, 51, 46]]\n"
     ]
    }
   ],
   "source": [
    "print(\"Before append(): \", ages)\n",
    "\n",
    "ages.append(20)\n",
    "print(\"After append(20): \", ages)\n",
    "\n",
    "# Lists can also be appended to other lists\n",
    "other_ages = [42, 51, 46]\n",
    "\n",
    "ages.append(other_ages)\n",
    "print(\"other_ages list appended to ages: \", ages)"
   ]
  },
  {
   "cell_type": "markdown",
   "metadata": {},
   "source": [
    "### Extend()\n",
    "This method adds all the items of a specified iterable, like a list, tuple, dictionary, or string, to the end of a list.<br />\n",
    "**Syntax:** list1.extend(iterable)"
   ]
  },
  {
   "cell_type": "code",
   "execution_count": 17,
   "metadata": {},
   "outputs": [
    {
     "name": "stdout",
     "output_type": "stream",
     "text": [
      "Current nums1_list:  [6, 8, 9, 10, 30, 50]\n",
      "nums1_tuple:  (80, 90, 100)\n",
      "After nums1_list.extend(nums1_tuple):  [6, 8, 9, 10, 30, 50, 80, 90, 100]\n"
     ]
    }
   ],
   "source": [
    "nums1_list = [6, 8, 9]\n",
    "\n",
    "nums2_list = [10, 30 , 50]\n",
    "\n",
    "# Adding nums2_list to nums1_list\n",
    "nums1_list.extend(nums2_list)\n",
    "print(\"Current nums1_list: \", nums1_list)\n",
    "\n",
    "# Any iterable can be added to a list, like a tuple\n",
    "nums1_tuple = (80, 90, 100)\n",
    "print(\"nums1_tuple: \", nums1_tuple)\n",
    "\n",
    "nums1_list.extend(nums1_tuple)\n",
    "print(\"After nums1_list.extend(nums1_tuple): \", nums1_list)"
   ]
  },
  {
   "cell_type": "markdown",
   "metadata": {},
   "source": [
    "### Insert()\n",
    "This method inserts an element to a list at a specific index. <br />\n",
    "**Syntax:** list.insert(index, element)"
   ]
  },
  {
   "cell_type": "code",
   "execution_count": 20,
   "metadata": {},
   "outputs": [
    {
     "name": "stdout",
     "output_type": "stream",
     "text": [
      "vowels after inserting 'o' to index 3:  ['a', 'e', 'i', 'o', 'u']\n",
      "mixed_list:  [{1, 3}, [5, 7, 9]]\n",
      "new_tuple:  (10, 15)\n",
      "Inserted tuple to mixed_list at index 2:  [{1, 3}, [5, 7, 9], (10, 15)]\n"
     ]
    }
   ],
   "source": [
    "# list of vowels\n",
    "vowels = [\"a\", \"e\", \"i\", \"u\"]\n",
    "\n",
    "vowels.insert(3, \"o\")\n",
    "\n",
    "print(\"vowels after inserting 'o' to index 3: \", vowels)\n",
    "\n",
    "# Any iterable can be inserted to a list\n",
    "mixed_list= [{1, 3}, [5, 7, 9]]\n",
    "print(\"mixed_list: \", mixed_list)\n",
    "\n",
    "new_tuple = (10, 15)\n",
    "print(\"new_tuple: \", new_tuple)\n",
    "\n",
    "# Inserting new_tuple to mixed_list\n",
    "mixed_list.insert(2, new_tuple)\n",
    "\n",
    "print(\"Inserted tuple to mixed_list at index 2: \", mixed_list)"
   ]
  },
  {
   "cell_type": "markdown",
   "metadata": {},
   "source": [
    "### Pop()\n",
    "The list pop method removes an element at a specific index. This method also returns the removed element. <br />\n",
    "**Syntax:** list.pop(index) <br />\n",
    "Also, the pop() method with no index removes the last element in the list."
   ]
  },
  {
   "cell_type": "code",
   "execution_count": 23,
   "metadata": {},
   "outputs": [
    {
     "name": "stdout",
     "output_type": "stream",
     "text": [
      "Popped element:  5\n",
      "Updated List:  [2, 3, 7]\n",
      "pop() with no index:  [2, 3]\n"
     ]
    }
   ],
   "source": [
    "# List of prime numbers\n",
    "prime_numbers = [2, 3, 5, 7]\n",
    "\n",
    "# Popping element in index 2 and storing in variable\n",
    "popped_element = prime_numbers.pop(2)\n",
    "\n",
    "print(\"Popped element: \", popped_element)\n",
    "print(\"Updated List: \", prime_numbers)\n",
    "\n",
    "# pop() with no index removes last element in list\n",
    "prime_numbers.pop()\n",
    "print(\"pop() with no index: \", prime_numbers)"
   ]
  },
  {
   "cell_type": "markdown",
   "metadata": {},
   "source": [
    "### Remove()\n",
    "This method removes the first matching element passed into the argument from the list <br />\n",
    "**Syntax:** list.remove(element) <br />"
   ]
  },
  {
   "cell_type": "code",
   "execution_count": 27,
   "metadata": {},
   "outputs": [
    {
     "name": "stdout",
     "output_type": "stream",
     "text": [
      "animals list after removing cow:  ['dog', 'rabbit', 'cat', 'bear']\n",
      "even_nums list:  [2, 6, 4, 8, 6, 10]\n",
      "even_nums list after remove(6) [2, 4, 8, 6, 10]\n"
     ]
    }
   ],
   "source": [
    "# List of animals\n",
    "animals = [\"dog\", \"rabbit\", \"cat\", \"cow\", \"bear\"]\n",
    "\n",
    "animals.remove(\"cow\")\n",
    "print(\"animals list after removing cow: \", animals)\n",
    "\n",
    "even_nums = [2, 6, 4, 8, 6, 10]\n",
    "print(\"even_nums list: \", even_nums)\n",
    "\n",
    "# First instance of the given element is removed\n",
    "even_nums.remove(6)\n",
    "print(\"even_nums list after remove(6)\", even_nums)"
   ]
  },
  {
   "cell_type": "markdown",
   "metadata": {},
   "source": [
    "### Index()\n",
    "This method returns the index of a specific element in a list. <br />\n",
    "**Syntax:** list.index(element, start, end) <br />\n",
    "- start (optional): start searching from this index\n",
    "- end (optional): search for the element up to this index"
   ]
  },
  {
   "cell_type": "code",
   "execution_count": 29,
   "metadata": {},
   "outputs": [
    {
     "name": "stdout",
     "output_type": "stream",
     "text": [
      "vowels list:  ['a', 'e', 'i', 'o', 'u']\n",
      "Index of i:  2\n",
      "Index of u:  4\n"
     ]
    }
   ],
   "source": [
    "vowels = [\"a\", \"e\", \"i\", \"o\", \"u\"]\n",
    "print(\"vowels list: \", vowels)\n",
    "\n",
    "# Index of \"i\"\n",
    "index = vowels.index(\"i\")\n",
    "print(\"Index of i: \", index)\n",
    "\n",
    "# Index of \"u\"\n",
    "index = vowels.index(\"u\")\n",
    "print(\"Index of u: \", index)"
   ]
  },
  {
   "cell_type": "markdown",
   "metadata": {},
   "source": [
    "### Count()\n",
    "The count method returns the number of times a specific element appears in a list. <br />\n",
    "**Syntax:** list.count(element) <br />"
   ]
  },
  {
   "cell_type": "code",
   "execution_count": 33,
   "metadata": {},
   "outputs": [
    {
     "name": "stdout",
     "output_type": "stream",
     "text": [
      "numbers list:  [1, 3, 2, 5, 3, 4, 1, 3]\n",
      "Count of 3:  3\n",
      "\n",
      "mixed_list:  ['a', ('a', 'c'), ('a', 'c'), [1, 3]]\n",
      "Count of (a, c):  2\n",
      "Count of [1, 3]:  1\n"
     ]
    }
   ],
   "source": [
    "numbers = [1, 3, 2, 5, 3, 4, 1, 3]\n",
    "print(\"numbers list: \", numbers)\n",
    "\n",
    "# check the count of 3\n",
    "count = numbers.count(3)\n",
    "print(\"Count of 3: \", count)\n",
    "print(\"\\r\")\n",
    "# Tuples and List elements can also be counted within a list\n",
    "mixed_list = [\"a\", (\"a\", \"c\"), (\"a\", \"c\"), [1, 3]]\n",
    "print(\"mixed_list: \", mixed_list)\n",
    "\n",
    "count = mixed_list.count((\"a\", \"c\"))\n",
    "print(\"Count of (a, c): \", count)\n",
    "\n",
    "count = mixed_list.count([1, 3])\n",
    "print(\"Count of [1, 3]: \", count)"
   ]
  },
  {
   "cell_type": "markdown",
   "metadata": {},
   "source": [
    "### Sort()\n",
    "This method sorts the elements within the list. <br />\n",
    "**Syntax:** list.sort(key=..., reverse=...) <br />\n",
    "- reverse (optional): False by default. If True is passed, the list is sorted in descending order.\n",
    "- key (optional): Function that serves as a key for a sort comparison."
   ]
  },
  {
   "cell_type": "code",
   "execution_count": 39,
   "metadata": {},
   "outputs": [
    {
     "name": "stdout",
     "output_type": "stream",
     "text": [
      "odd_numbers after sort():  [1, 3, 5, 7, 9, 11]\n",
      "odd_numbers after sort(reverse=True):  [11, 9, 7, 5, 3, 1]\n",
      "cities sorted alphabetically: ['Austin', 'Dallas', 'Guanajuato', 'London', 'Tokyo']\n",
      "\n",
      "text list before sort: ['abcd', 'a', 'xyz', 'cd']\n",
      "text list after sort(key=len): ['a', 'cd', 'xyz', 'abcd']\n"
     ]
    }
   ],
   "source": [
    "odd_numbers = [5, 9, 3, 1, 11, 7]\n",
    "\n",
    "# Sorts the list in descending order by default\n",
    "odd_numbers.sort()\n",
    "print(\"odd_numbers after sort(): \", odd_numbers)\n",
    "\n",
    "# Sorting the list in ascending order\n",
    "odd_numbers.sort(reverse=True)\n",
    "print(\"odd_numbers after sort(reverse=True): \", odd_numbers)\n",
    "\n",
    "# Strings will be sorted in alphabetical order by default\n",
    "cities = [\"Austin\", \"Tokyo\", \"Guanajuato\", \"London\", \"Dallas\"]\n",
    "cities.sort()\n",
    "\n",
    "print(f\"cities sorted alphabetically: {cities}\")\n",
    "print(\"\\r\")\n",
    "\n",
    "# Strings can also be sorted by their length\n",
    "text = [\"abcd\", \"a\", \"xyz\", \"cd\"]\n",
    "print(f\"text list before sort: {text}\")\n",
    "text.sort(key=len)\n",
    "\n",
    "print(f\"text list after sort(key=len): {text}\")"
   ]
  },
  {
   "cell_type": "markdown",
   "metadata": {},
   "source": [
    "### Reverse()\n",
    "The reverse method reverses all the elements in a list. <br />\n",
    "**Syntax:** list.reverse() <br />"
   ]
  },
  {
   "cell_type": "code",
   "execution_count": 44,
   "metadata": {},
   "outputs": [
    {
     "name": "stdout",
     "output_type": "stream",
     "text": [
      "Current list: [3, 6, 9, 12, 15, 18]\n",
      "List after reverse: [18, 15, 12, 9, 6, 3]\n",
      "Iterating list in reverse order: 3 6 9 12 15 18 "
     ]
    }
   ],
   "source": [
    "threes_list = [3, 6, 9, 12, 15, 18]\n",
    "print(f\"Current list: {threes_list}\")\n",
    "\n",
    "threes_list.reverse()\n",
    "print(f\"List after reverse: {threes_list}\")\n",
    "\n",
    "# Lists can also be iterated thru in reverse order\n",
    "print(\"Iterating list in reverse order: \", end=\"\")\n",
    "for i in reversed(threes_list):\n",
    "    print(i, end=\" \")"
   ]
  },
  {
   "cell_type": "markdown",
   "metadata": {},
   "source": [
    "### Copy()\n",
    "The copy method returns a shallow copy of the list. <br />\n",
    "**Syntax:** new_list = list.copy() <br />"
   ]
  },
  {
   "cell_type": "code",
   "execution_count": 46,
   "metadata": {},
   "outputs": [
    {
     "name": "stdout",
     "output_type": "stream",
     "text": [
      "Copied List:  ['Olive Garder', 'Red Lobster', 'Applebees', \"Chili's\", 'Pappasitos']\n",
      "Copy of the copy:  ['Olive Garder', 'Red Lobster', 'Applebees', \"Chili's\", 'Pappasitos']\n"
     ]
    }
   ],
   "source": [
    "restaurants = [\"Olive Garder\", \"Red Lobster\", \"Applebees\", \"Chili's\", \"Pappasitos\"]\n",
    "\n",
    "# Copy method\n",
    "restaurants_copy = restaurants.copy()\n",
    "print(\"Copied List: \", restaurants_copy)\n",
    "\n",
    "# Lists can also be copied using = \n",
    "new_restaurants = restaurants_copy\n",
    "print(\"Copy of the copy: \", new_restaurants)"
   ]
  },
  {
   "cell_type": "markdown",
   "metadata": {},
   "source": [
    "### Clear()\n",
    "The clear method removes all items from the list <br />\n",
    "**Syntax:** list.clear() <br />"
   ]
  },
  {
   "cell_type": "code",
   "execution_count": 25,
   "metadata": {},
   "outputs": [
    {
     "name": "stdout",
     "output_type": "stream",
     "text": [
      "list:  [{3, 6}, 'a', [1.2, 2.3]]\n",
      "After list.clear():  []\n"
     ]
    }
   ],
   "source": [
    "# Defining a list\n",
    "list = [{3, 6}, \"a\", [1.2, 2.3]]\n",
    "\n",
    "print(\"list: \", list)\n",
    "\n",
    "list.clear()\n",
    "print(\"After list.clear(): \", list)"
   ]
  }
 ],
 "metadata": {
  "kernelspec": {
   "display_name": "Python 3",
   "language": "python",
   "name": "python3"
  },
  "language_info": {
   "codemirror_mode": {
    "name": "ipython",
    "version": 3
   },
   "file_extension": ".py",
   "mimetype": "text/x-python",
   "name": "python",
   "nbconvert_exporter": "python",
   "pygments_lexer": "ipython3",
   "version": "3.11.9"
  }
 },
 "nbformat": 4,
 "nbformat_minor": 2
}

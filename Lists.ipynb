{
 "cells": [
  {
   "cell_type": "markdown",
   "metadata": {},
   "source": [
    "# Lists"
   ]
  },
  {
   "cell_type": "markdown",
   "metadata": {},
   "source": [
    "## What are Lists? []\n",
    "A list is a single \"variable\" that is used to store multiple values. <br />\n",
    "Lists are ordered and mutable. Duplicates are allowed."
   ]
  },
  {
   "cell_type": "markdown",
   "metadata": {},
   "source": [
    "## Python List Methods\n",
    "- append()\n",
    "- extend()\n",
    "- insert()\n",
    "- pop()\n",
    "- clear()\n",
    "- remove()\n",
    "- index()\n",
    "- count()\n",
    "- sort()\n",
    "- reverse()\n",
    "- copy()"
   ]
  },
  {
   "cell_type": "markdown",
   "metadata": {},
   "source": [
    "## List Implementation"
   ]
  },
  {
   "cell_type": "code",
   "execution_count": 11,
   "metadata": {},
   "outputs": [
    {
     "name": "stdout",
     "output_type": "stream",
     "text": [
      "[19, 22, 25, 29, 33]\n",
      "['Apple', 'Orange', 'Banana', 'Pear']\n",
      "['Thomas', 28, 'Computer Science', [3, 5]]\n",
      "[]\n"
     ]
    }
   ],
   "source": [
    "# List of 5 integers\n",
    "ages = [19, 22, 25, 29, 33]\n",
    "print(ages)\n",
    "\n",
    "# List of 5 strings\n",
    "fruits = [\"Apple\", \"Orange\", \"Banana\", \"Pear\"]\n",
    "print(fruits)\n",
    "\n",
    "# Lists can contain mixed data types\n",
    "student = [\"Thomas\", 28, \"Computer Science\", [3, 5]]\n",
    "print(student)\n",
    "\n",
    "# Empty lists can be initialized like so\n",
    "empty_list = []\n",
    "print(empty_list)"
   ]
  },
  {
   "cell_type": "markdown",
   "metadata": {},
   "source": [
    "### Append() Function\n",
    "Adds an element to the end of the list."
   ]
  },
  {
   "cell_type": "code",
   "execution_count": 12,
   "metadata": {},
   "outputs": [
    {
     "name": "stdout",
     "output_type": "stream",
     "text": [
      "Before append():  [19, 22, 25, 29, 33]\n",
      "After append(20):  [19, 22, 25, 29, 33, 20]\n",
      "other_ages list appended to ages:  [19, 22, 25, 29, 33, 20, [42, 51, 46]]\n"
     ]
    }
   ],
   "source": [
    "print(\"Before append(): \", ages)\n",
    "\n",
    "ages.append(20)\n",
    "print(\"After append(20): \", ages)\n",
    "\n",
    "# Lists can also be appended to other lists\n",
    "other_ages = [42, 51, 46]\n",
    "\n",
    "ages.append(other_ages)\n",
    "print(\"other_ages list appended to ages: \", ages)"
   ]
  }
 ],
 "metadata": {
  "kernelspec": {
   "display_name": "Python 3",
   "language": "python",
   "name": "python3"
  },
  "language_info": {
   "codemirror_mode": {
    "name": "ipython",
    "version": 3
   },
   "file_extension": ".py",
   "mimetype": "text/x-python",
   "name": "python",
   "nbconvert_exporter": "python",
   "pygments_lexer": "ipython3",
   "version": "3.11.9"
  }
 },
 "nbformat": 4,
 "nbformat_minor": 2
}

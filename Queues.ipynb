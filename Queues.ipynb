{
 "cells": [
  {
   "cell_type": "markdown",
   "metadata": {},
   "source": [
    "# Queues"
   ]
  },
  {
   "cell_type": "markdown",
   "metadata": {},
   "source": [
    "## What are Queues?\n",
    "A linear data structure that stores and manages data in a specific order. It follows the FIFI (First In, First Out) principal, where the first element added to the queue is the first on to be removed."
   ]
  },
  {
   "cell_type": "markdown",
   "metadata": {},
   "source": [
    "## Basic operations on Queue\n",
    "- **Enqueue:** Insert element to queue\n",
    "- **Dequeue:** Remove element from queue\n",
    "- **Peek/Front:** Returns the element at the front node of the queue\n",
    "- **Rear:** Returns the last element in the queue\n",
    "- **isFull:** Checks if the queue is full\n",
    "- **isEmpty:** Check if the queue is empty\n",
    "- **Size:** Returns the size fo the queue (Total number of elements)"
   ]
  },
  {
   "cell_type": "markdown",
   "metadata": {},
   "source": [
    "## Python Queue Implementation\n",
    "In Python, queues can be implmented in various ways:\n",
    "- list: Python's built-in data structure. Not recommended due to slow insertion and removal methods.\n",
    "- collections.dequeue: Class from the collections module. Faster than a list.\n",
    "- queue.Queue: Built-in module in Python."
   ]
  },
  {
   "cell_type": "markdown",
   "metadata": {},
   "source": [
    "## Queue Implementation using List "
   ]
  },
  {
   "cell_type": "code",
   "execution_count": 3,
   "metadata": {},
   "outputs": [
    {
     "name": "stdout",
     "output_type": "stream",
     "text": [
      "Initial queue:  ['a', 'b', 'c']\n",
      "Queue after pop(0):  ['b', 'c']\n",
      "New queue using alternate method:  [4.5, 3.1, 1.2]\n"
     ]
    }
   ],
   "source": [
    "# Initalize empty queue using a list\n",
    "my_queue = []\n",
    "\n",
    "# Inserting elements to queue with append()\n",
    "my_queue.append(\"a\")\n",
    "my_queue.append(\"b\")\n",
    "my_queue.append(\"c\")\n",
    "\n",
    "print(\"Initial queue: \", my_queue)\n",
    "\n",
    "# Removing element from queue\n",
    "my_queue.pop(0)\n",
    "print(\"Queue after pop(0): \", my_queue)\n",
    "\n",
    "# Alternitavely, queues can also be implemented like this\n",
    "new_queue = []\n",
    "\n",
    "# Inserting elements to queue with insert()\n",
    "new_queue.insert(0, 1.2)\n",
    "new_queue.insert(0, 3.1)\n",
    "new_queue.insert(0, 4.5)\n",
    "\n",
    "# This method shows first element on far right\n",
    "print(\"New queue using alternate method: \", new_queue)\n",
    "\n",
    "# Removing elements from queue\n",
    "new_queue.pop()\n",
    "new_queue.pop()\n",
    "\n",
    "print(\"New queue after two pops: \", new_queue)"
   ]
  }
 ],
 "metadata": {
  "kernelspec": {
   "display_name": "Python 3",
   "language": "python",
   "name": "python3"
  },
  "language_info": {
   "codemirror_mode": {
    "name": "ipython",
    "version": 3
   },
   "file_extension": ".py",
   "mimetype": "text/x-python",
   "name": "python",
   "nbconvert_exporter": "python",
   "pygments_lexer": "ipython3",
   "version": "3.11.9"
  }
 },
 "nbformat": 4,
 "nbformat_minor": 2
}

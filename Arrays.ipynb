{
 "cells": [
  {
   "cell_type": "markdown",
   "metadata": {},
   "source": [
    "# Arrays"
   ]
  },
  {
   "cell_type": "markdown",
   "metadata": {},
   "source": [
    "## What are Arrays?\n",
    "A collection of items stored at contiguous memory locations. Arrays in python can only store items of the same data type."
   ]
  },
  {
   "cell_type": "markdown",
   "metadata": {},
   "source": [
    "## Operations on Array in Python\n",
    "- append()\n",
    "- insert()\n",
    "- pop()\n",
    "- remove()\n",
    "- index()\n",
    "- reverse()"
   ]
  },
  {
   "cell_type": "markdown",
   "metadata": {},
   "source": [
    "## Array Implementation"
   ]
  },
  {
   "cell_type": "code",
   "execution_count": 24,
   "metadata": {},
   "outputs": [
    {
     "name": "stdout",
     "output_type": "stream",
     "text": [
      "array('i', [3, 9, 1, 7, 5])\n",
      "3 9 1 7 5 "
     ]
    }
   ],
   "source": [
    "# array module must be imported\n",
    "import array as arr\n",
    "\n",
    "# array(data_type, value_list)\n",
    "a = arr.array('i', [3, 9, 1, 7, 5])\n",
    "\n",
    "print(a)    # Prints entire array function\n",
    "\n",
    "for i in a: # Loops thru entire array and prints one element at a time\n",
    "    print(i, end=\" \")"
   ]
  },
  {
   "cell_type": "markdown",
   "metadata": {},
   "source": [
    "### Append() Function\n",
    "Adds an element to the end of the array."
   ]
  },
  {
   "cell_type": "code",
   "execution_count": 25,
   "metadata": {},
   "outputs": [
    {
     "name": "stdout",
     "output_type": "stream",
     "text": [
      "Newly appended array: 3 9 1 7 5 10 "
     ]
    }
   ],
   "source": [
    "a.append(10)    # Appending 10 to the \"a\" array\n",
    "\n",
    "print(\"Newly appended array: \", end=\"\")\n",
    "# len(a) returns length of given array\n",
    "for i in range(len(a)):\n",
    "    print(a[i], end=\" \")"
   ]
  },
  {
   "cell_type": "markdown",
   "metadata": {},
   "source": [
    "### Insert() Function\n",
    "Adds an element to a specific index. <br />\n",
    "insert(i, x): Inserts value x to the ith position of the array."
   ]
  },
  {
   "cell_type": "code",
   "execution_count": 26,
   "metadata": {},
   "outputs": [
    {
     "name": "stdout",
     "output_type": "stream",
     "text": [
      "Array after insert 4 to index 2: 3 9 4 1 7 5 10 "
     ]
    }
   ],
   "source": [
    "a.insert(2, 4)  # Inserts \"4\" to index 2 of the array.\n",
    "\n",
    "print(\"Array after insert 4 to index 2: \", end=\"\")\n",
    "for i in range(len(a)):\n",
    "    print(a[i], end=\" \")"
   ]
  }
 ],
 "metadata": {
  "kernelspec": {
   "display_name": "Python 3",
   "language": "python",
   "name": "python3"
  },
  "language_info": {
   "codemirror_mode": {
    "name": "ipython",
    "version": 3
   },
   "file_extension": ".py",
   "mimetype": "text/x-python",
   "name": "python",
   "nbconvert_exporter": "python",
   "pygments_lexer": "ipython3",
   "version": "3.11.9"
  }
 },
 "nbformat": 4,
 "nbformat_minor": 2
}
